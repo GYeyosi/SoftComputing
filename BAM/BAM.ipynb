{
 "cells": [
  {
   "cell_type": "markdown",
   "metadata": {},
   "source": [
    "# BIDIRECTIONAL ASSOCIATIVE MEMORY (BAM)"
   ]
  },
  {
   "cell_type": "code",
   "execution_count": 1,
   "metadata": {},
   "outputs": [],
   "source": [
    "import numpy as np"
   ]
  },
  {
   "cell_type": "markdown",
   "metadata": {},
   "source": [
    "Here below is a class defined where the model will be initiated with two sets A and B\n",
    "\n",
    "The correlation matrices are calculated and are all sumed up to get the final weight matrix which will be used for associations. "
   ]
  },
  {
   "cell_type": "code",
   "execution_count": 2,
   "metadata": {},
   "outputs": [],
   "source": [
    "class BAM():\n",
    "    \n",
    "    def __init__(self, A, B):\n",
    "        self.A = np.array(A)\n",
    "        self.B = np.array(B)\n",
    "        self.m = len(A[0])\n",
    "        self.n = len(B[0])\n",
    "        self.W = np.array([np.array([0 for i in range(self.n)]) for j in range(self.m)])\n",
    "        \n",
    "    def create_bam(self):\n",
    "        for k in range(len(self.A)):\n",
    "            for i in range(self.m):\n",
    "                for j in range(self.n):\n",
    "                    self.W[i][j] += self.A[k][i]*self.B[k][j]\n",
    "        \n",
    "        return\n",
    "    \n",
    "    def get_pair(self, X, A = True):\n",
    "        if A:\n",
    "            vec = self.W.T.dot(X)\n",
    "        else:\n",
    "            vec = self.W.dot(X)\n",
    "        \n",
    "        ret_vec = []\n",
    "        for i in vec:\n",
    "            if i < 0:\n",
    "                ret_vec.append(-1)\n",
    "            else:\n",
    "                ret_vec.append(1)\n",
    "        return ret_vec"
   ]
  },
  {
   "cell_type": "code",
   "execution_count": 13,
   "metadata": {},
   "outputs": [
    {
     "name": "stdout",
     "output_type": "stream",
     "text": [
      "Weight Matrix: \n",
      "[[2 2 4]\n",
      " [4 0 2]\n",
      " [2 2 0]\n",
      " [0 4 2]\n",
      " [0 4 2]\n",
      " [0 4 2]]\n",
      "\n",
      "Given the set A as input:\n",
      "[1, 1, 1, 1, 1, 1] --->  [1, 1, 1]\n",
      "[-1, -1, -1, -1, -1, -1] --->  [-1, -1, -1]\n",
      "[1, -1, -1, 1, 1, 1] --->  [-1, 1, 1]\n",
      "[1, 1, -1, -1, -1, -1] --->  [1, -1, 1]\n",
      "\n",
      "Given the set B as input:\n",
      "[1, 1, 1] --->  [1, 1, 1, 1, 1, 1]\n",
      "[-1, -1, -1] --->  [-1, -1, -1, -1, -1, -1]\n",
      "[-1, 1, 1] --->  [1, -1, 1, 1, 1, 1]\n",
      "[1, -1, 1] --->  [1, 1, 1, -1, -1, -1]\n",
      "\n",
      "Given the set A as input with some changes to check nearest associations:\n",
      "[1, 1, 1, -1, 1, 1] --->  [1, 1, 1]\n",
      "[1, -1, -1, -1, -1, -1] --->  [-1, -1, -1]\n",
      "[1, -1, -1, 1, 1, -1] --->  [-1, 1, 1]\n",
      "[1, -1, -1, -1, -1, -1] --->  [-1, -1, -1]\n"
     ]
    }
   ],
   "source": [
    "x1 = [1, 1, 1, 1, 1, 1]\n",
    "x2 = [-1, -1, -1, -1, -1, -1]\n",
    "x3 = [1, -1, -1, 1, 1, 1]\n",
    "x4 = [1, 1, -1, -1, -1, -1]\n",
    "\n",
    "A = [x1, x2, x3, x4]\n",
    "\n",
    "y1 = [1, 1, 1]\n",
    "y2 = [-1, -1, -1]\n",
    "y3 = [-1, 1, 1]\n",
    "y4 = [1, -1, 1]\n",
    "\n",
    "B = [y1, y2, y3, y4]\n",
    "\n",
    "model = BAM(A, B)\n",
    "model.create_bam()\n",
    "\n",
    "print('Weight Matrix: ')\n",
    "print(model.W)\n",
    "\n",
    "print(\"\\nGiven the set A as input:\")\n",
    "print('[1, 1, 1, 1, 1, 1] ---> ', model.get_pair([1, 1, 1, 1, 1, 1]))\n",
    "print('[-1, -1, -1, -1, -1, -1] ---> ', model.get_pair([-1, -1, -1, -1, -1, -1]))\n",
    "print('[1, -1, -1, 1, 1, 1] ---> ', model.get_pair([1, -1, -1, 1, 1, 1]))\n",
    "print('[1, 1, -1, -1, -1, -1] ---> ', model.get_pair([1, 1, -1, -1, -1, -1])) \n",
    "\n",
    "print(\"\\nGiven the set B as input:\")\n",
    "print('[1, 1, 1] ---> ', model.get_pair([1, 1, 1], A = False))\n",
    "print('[-1, -1, -1] ---> ', model.get_pair([-1, -1, -1], A = False))\n",
    "print('[-1, 1, 1] ---> ', model.get_pair([-1, 1, 1], A = False))\n",
    "print('[1, -1, 1] ---> ', model.get_pair([1, -1, 1], A = False))\n",
    "\n",
    "print(\"\\nGiven the set A as input with some changes to check nearest associations:\")\n",
    "\n",
    "print('[1, 1, 1, -1, 1, 1] ---> ', model.get_pair([1, 1, 1, -1, 1, 1]))\n",
    "print('[1, -1, -1, -1, -1, -1] ---> ', model.get_pair([1, -1, -1, -1, -1, -1]))\n",
    "print('[1, -1, -1, 1, 1, -1] ---> ', model.get_pair([1, -1, -1, 1, 1, -1]))\n",
    "print('[1, -1, -1, -1, -1, -1] ---> ', model.get_pair([1, -1, -1, -1, -1, -1])) \n"
   ]
  },
  {
   "cell_type": "code",
   "execution_count": null,
   "metadata": {},
   "outputs": [],
   "source": []
  }
 ],
 "metadata": {
  "kernelspec": {
   "display_name": "Python 3",
   "language": "python",
   "name": "python3"
  },
  "language_info": {
   "codemirror_mode": {
    "name": "ipython",
    "version": 3
   },
   "file_extension": ".py",
   "mimetype": "text/x-python",
   "name": "python",
   "nbconvert_exporter": "python",
   "pygments_lexer": "ipython3",
   "version": "3.7.7"
  }
 },
 "nbformat": 4,
 "nbformat_minor": 4
}
