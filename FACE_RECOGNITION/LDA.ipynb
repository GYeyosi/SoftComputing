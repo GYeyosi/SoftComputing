{
 "cells": [
  {
   "cell_type": "markdown",
   "metadata": {},
   "source": [
    "# Face Recognition using LDA"
   ]
  },
  {
   "cell_type": "code",
   "execution_count": 1,
   "metadata": {},
   "outputs": [],
   "source": [
    "from PIL import Image\n",
    "from matplotlib import pyplot as plt\n",
    "import numpy as np\n",
    "import glob\n",
    "import random\n",
    "import re"
   ]
  },
  {
   "cell_type": "markdown",
   "metadata": {},
   "source": [
    "I have used the orl dataset. Considering fifteen different people each having 10 photos in the dataset. I have used 5 photos for training and the remaining 5 photos for testing purpose. Here in the function get_filenames all the file locations of train and test images will be returned so that they can be loaded later easily."
   ]
  },
  {
   "cell_type": "code",
   "execution_count": 2,
   "metadata": {},
   "outputs": [],
   "source": [
    "def get_filenames(X, train=True):\n",
    "    img_locations = []\n",
    "    for i in range(15):\n",
    "        for j in range(X):\n",
    "            if(train):\n",
    "                img_locations.append(\"images/s{}/{}.pgm\".format(i+1, j+1))\n",
    "            else:\n",
    "                img_locations.append(\"images/s{}/{}.pgm\".format(i+1, j+10-X+1))\n",
    "    return img_locations"
   ]
  },
  {
   "cell_type": "markdown",
   "metadata": {},
   "source": [
    "Given the locations of images as input this below funtion generates the train and test data with their corresponding labels."
   ]
  },
  {
   "cell_type": "code",
   "execution_count": 3,
   "metadata": {},
   "outputs": [],
   "source": [
    "def load_data(img_locs):\n",
    "    X, Y = [], []\n",
    "    for loc in img_locs:\n",
    "        img = np.array(Image.open(loc)).flatten()\n",
    "        label = re.findall(\"[0-9]+/\",loc)[0]\n",
    "        label = int(label[:-1])\n",
    "        X.append(img), Y.append(label)\n",
    "    return np.array(X), np.array(Y)"
   ]
  },
  {
   "cell_type": "markdown",
   "metadata": {},
   "source": [
    "The below view data function is used to display the images used for training and testing."
   ]
  },
  {
   "cell_type": "code",
   "execution_count": 4,
   "metadata": {},
   "outputs": [],
   "source": [
    "def view_data(imgs, w, h):\n",
    "    x = len(imgs)/ 5\n",
    "    count = 1\n",
    "    for img in imgs:\n",
    "        i = img.reshape(w, h)\n",
    "        plt.subplot(x, 5, count)\n",
    "        plt.imshow(i, cmap='gray')\n",
    "        plt.tick_params(labelleft=False, labelbottom=False, bottom=False,top=False,right=False,left=False, which='both')\n",
    "        plt.subplots_adjust(right=1.2, top=2.5)\n",
    "        count += 1\n",
    "        \n",
    "    plt.show()"
   ]
  },
  {
   "cell_type": "code",
   "execution_count": 5,
   "metadata": {},
   "outputs": [
    {
     "ename": "SyntaxError",
     "evalue": "invalid syntax (<ipython-input-5-4bc955eb5b12>, line 1)",
     "output_type": "error",
     "traceback": [
      "\u001b[1;36m  File \u001b[1;32m\"<ipython-input-5-4bc955eb5b12>\"\u001b[1;36m, line \u001b[1;32m1\u001b[0m\n\u001b[1;33m    The below model has all the functions related to PCA train, test algos followed by LDA train, test algos.\u001b[0m\n\u001b[1;37m            ^\u001b[0m\n\u001b[1;31mSyntaxError\u001b[0m\u001b[1;31m:\u001b[0m invalid syntax\n"
     ]
    }
   ],
   "source": [
    "The below model has all the functions related to PCA train, test algos followed by LDA train, test algos."
   ]
  },
  {
   "cell_type": "code",
   "execution_count": null,
   "metadata": {},
   "outputs": [],
   "source": [
    "class Model:\n",
    "    \n",
    "    def get_mean(self, imgs):\n",
    "        return np.mean(imgs, axis=0)\n",
    "    \n",
    "    def train_lda(self, classes, signature, split, K):\n",
    "        M = np.mean(signature, axis=1)\n",
    "        # print(M)\n",
    "        mus = []\n",
    "        for i in range(0, len(classes), split):\n",
    "            mus.append(np.mean(signature.T[i:i+split - 1], axis=0))\n",
    "        mus = np.array(mus)\n",
    "        SW = np.zeros((K, K))\n",
    "        # print(SW)\n",
    "        for i in range(0, len(classes), split):\n",
    "            V = signature.T[i:i+split-1]\n",
    "            T = V -mus[int(i/5)]\n",
    "            sigma = T.T.dot(T)\n",
    "            SW += sigma\n",
    "        # print(SW)\n",
    "        SB = np.zeros((K, K))\n",
    "        for i in range(len(mus)):\n",
    "            sigma = (mus[i] - M).dot(mus[i].T)\n",
    "            SB += sigma\n",
    "\n",
    "        J = np.linalg.inv(SW).dot(SB)\n",
    "\n",
    "        w, v = np.linalg.eig(J)\n",
    "        p = w.argsort()[::-1]\n",
    "\n",
    "        sorted = v[w.argsort()[::-1]]\n",
    "        W = sorted[:10].T\n",
    "        # print(W.shape)\n",
    "\n",
    "        FF = W.T.dot(signature)\n",
    "\n",
    "        return FF, W\n",
    "    \n",
    "    def test_lda(self, image, FF, W, signature, phi):\n",
    "        image = image - self.mean\n",
    "        PEF = phi.dot(image)\n",
    "        Projected_Fisher_Test_Image = W.T.dot(PEF)\n",
    "        dists = []\n",
    "        for i in range(FF.shape[1]):\n",
    "            dist = np.linalg.norm(Projected_Fisher_Test_Image-FF[:,i])\n",
    "            dists.append(dist)\n",
    "        dists = np.array(dists)\n",
    "        min_ind = np.argmin(dists)\n",
    "        return self.Y[min_ind]\n",
    "\n",
    "    def train_pca(self, imgs, classes, K):\n",
    "        self.mean = self.get_mean(imgs)\n",
    "        self.Y = classes\n",
    "        imgs = imgs - self.mean\n",
    "        C = np.cov(imgs)\n",
    "        w, v = np.linalg.eig(C)\n",
    "\n",
    "        p = w.argsort()[::-1]\n",
    "        # print(p)\n",
    "        sorted = v[w.argsort()[::-1]]\n",
    "        shi = sorted[:K].T\n",
    "        phi = shi.T.dot(imgs)\n",
    "        signature = phi.dot(imgs.T)\n",
    "        return phi, signature\n",
    "\n",
    "    def test_pca(self, image, signature, phi):\n",
    "        image = image - self.mean\n",
    "        # print(image.shape)\n",
    "        sigma = phi.dot(image)\n",
    "        dists = []\n",
    "        for i in range(signature.shape[1]):\n",
    "            dist = np.linalg.norm(sigma-signature[:,i])\n",
    "            dists.append(dist)\n",
    "        dists = np.array(dists)\n",
    "        min_ind = np.argmin(dists)\n",
    "        return self.Y[min_ind]"
   ]
  },
  {
   "cell_type": "markdown",
   "metadata": {},
   "source": [
    "The below function calculates the accuracy"
   ]
  },
  {
   "cell_type": "code",
   "execution_count": null,
   "metadata": {},
   "outputs": [],
   "source": [
    "def calculate_acc(YY, test_y):\n",
    "    count = 0\n",
    "    correct = 0\n",
    "    wrong = 0\n",
    "    for i in range(len(YY)):\n",
    "        if(YY[i] == test_y[i]):\n",
    "            correct += 1\n",
    "        else:\n",
    "            wrong += 1\n",
    "            \n",
    "        count += 1\n",
    "    \n",
    "    acc = correct / count\n",
    "    return acc, correct, count\n",
    "    "
   ]
  },
  {
   "cell_type": "code",
   "execution_count": null,
   "metadata": {},
   "outputs": [],
   "source": [
    "train_img_loc = get_filenames(5)\n",
    "test_imag_loc = get_filenames(5, train=False)\n",
    "\n",
    "random.shuffle(train_img_loc)\n",
    "random.shuffle(test_imag_loc)\n",
    "\n",
    "w, h = np.array(Image.open(train_img_loc[0])).shape\n",
    "\n",
    "train_imgs, train_classes = load_data(train_img_loc)\n",
    "test_imgs, test_classes = load_data(test_imag_loc)\n",
    "\n",
    "print(\"Train images\")\n",
    "view_data(train_imgs, w, h)\n",
    "\n",
    "print(\"Test images\")\n",
    "view_data(test_imgs, w, h)"
   ]
  },
  {
   "cell_type": "code",
   "execution_count": null,
   "metadata": {},
   "outputs": [],
   "source": [
    "model = Model()\n",
    "print(\"Mean Face\")\n",
    "mean = model.get_mean(train_imgs)\n",
    "plt.imshow(mean.reshape(w,h), cmap='gray')\n",
    "plt.tick_params(labelleft=False, labelbottom=False, bottom=False,top=False,right=False,left=False, which='both')\n",
    "plt.show()\n",
    "\n",
    "# Number of components \n",
    "k = 10\n",
    "\n",
    "# PCA TRAIN\n",
    "phi , signature = model.train_pca(train_imgs, train_classes, k)\n",
    "\n",
    "# LDA TRAIN\n",
    "FF , W = model.train_lda(train_classes, signature, 5, k)\n",
    "print(\"TRAINING...done \")\n",
    "\n",
    "# LDA TEST\n",
    "count = 0\n",
    "preds = []\n",
    "for i in range(len(test_imgs)):\n",
    "    out = model.test_lda(test_imgs[i], FF, W, signature, phi)\n",
    "    preds.append(out)\n",
    "\n",
    "acc, correct, count = calculate_acc(preds, test_classes)\n",
    "print(\"\\nAccuracy using LDA: {}\".format(acc))\n",
    "\n",
    "\n",
    "# PCA TEST\n",
    "preds = []\n",
    "for i in range(len(test_imgs)):\n",
    "    out = model.test(test_imgs[i], signature, phi)\n",
    "    preds.append(out)\n",
    "\n",
    "acc, correct, count = calculate_acc(preds, test_classes)\n",
    "print(\"Accuracy using PCA: {}\".format(acc))\n",
    "print(\"\\nTESTING...done\")\n",
    "print()"
   ]
  },
  {
   "cell_type": "code",
   "execution_count": null,
   "metadata": {},
   "outputs": [],
   "source": []
  },
  {
   "cell_type": "code",
   "execution_count": null,
   "metadata": {},
   "outputs": [],
   "source": []
  }
 ],
 "metadata": {
  "file_extension": ".py",
  "kernelspec": {
   "display_name": "Python 3.7.7 64-bit ('ml': conda)",
   "language": "python",
   "name": "python37764bitmlconda8169c33c53244eb09c9a1477b17728b3"
  },
  "language_info": {
   "codemirror_mode": {
    "name": "ipython",
    "version": 3
   },
   "file_extension": ".py",
   "mimetype": "text/x-python",
   "name": "python",
   "nbconvert_exporter": "python",
   "pygments_lexer": "ipython3",
   "version": "3.7.7"
  },
  "mimetype": "text/x-python",
  "name": "python",
  "npconvert_exporter": "python",
  "pygments_lexer": "ipython3",
  "version": 3
 },
 "nbformat": 4,
 "nbformat_minor": 2
}
