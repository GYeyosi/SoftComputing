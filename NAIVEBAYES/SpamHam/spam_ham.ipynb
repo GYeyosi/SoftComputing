{
 "cells": [
  {
   "cell_type": "code",
   "execution_count": 19,
   "metadata": {},
   "outputs": [],
   "source": [
    "import pandas as pd\n",
    "import string"
   ]
  },
  {
   "cell_type": "code",
   "execution_count": 20,
   "metadata": {},
   "outputs": [],
   "source": [
    "class Naive_Bayes:\n",
    "\n",
    "    def __init__(self):\n",
    "        self.spam, self.ham = {}, {}\n",
    "        self.spam_c, self.ham_c = 0, 0\n",
    "        self.V = set()\n",
    "\n",
    "    def preprocess(self, s):\n",
    "        s = s.lower() # Make all into lower case\n",
    "        tokens = s.split()\n",
    "        only_letters = lambda w: all([c in string.ascii_letters for c in w])\n",
    "        words = list(filter(only_letters, tokens))\n",
    "        return words\n",
    "    "
   ]
  },
  {
   "cell_type": "code",
   "execution_count": 21,
   "metadata": {},
   "outputs": [],
   "source": [
    "def train(model, X, Y):\n",
    "    for x,y in zip(X,Y):\n",
    "        x = model.preprocess(x)\n",
    "        if y == 0:\n",
    "            model.ham_c += 1\n",
    "            for word in x:\n",
    "                model.ham[word] = model.ham.get(word, 0) + 1\n",
    "                model.V.add(word)\n",
    "        if y == 1:\n",
    "            model.spam_c += 1\n",
    "            for word in x:\n",
    "                model.spam[word] = model.spam.get(word, 0) + 1\n",
    "                model.V.add(word)\n",
    "    return model"
   ]
  },
  {
   "cell_type": "code",
   "execution_count": 22,
   "metadata": {},
   "outputs": [],
   "source": [
    "def test(model, X):\n",
    "    Y, V, spam, ham, spam_c, ham_c = [], model.V, model.spam, model.ham, model.spam_c, model.ham_c\n",
    "    for x in X:\n",
    "        x = model.preprocess(x)\n",
    "        p = spam_c/(spam_c + ham_c)\n",
    "        for word in x:\n",
    "            p *= (spam.get(word, 0) + 1)/(spam_c )\n",
    "        q = ham_c/(spam_c + ham_c)\n",
    "        for word in x:\n",
    "            q *= (ham.get(word, 0) + 1)/(ham_c )\n",
    "        Y.append(1 if p >= q else 0)\n",
    "    return Y"
   ]
  },
  {
   "cell_type": "code",
   "execution_count": 23,
   "metadata": {},
   "outputs": [],
   "source": [
    "def load_data():\n",
    "    df = pd.read_csv('spam_ham.csv', encoding = 'latin-1')\n",
    "    df.drop(['Unnamed: 2', 'Unnamed: 3', 'Unnamed: 4'], axis=1, inplace=True)\n",
    "    # print(df.head())\n",
    "    df.drop_duplicates(inplace=True)\n",
    "    df.rename(columns = {'v1': 'label', 'v2': 'message'}, inplace=True)\n",
    "    df['label'] = df['label'].map({'ham': 0, 'spam': 1})\n",
    "    return df"
   ]
  },
  {
   "cell_type": "code",
   "execution_count": 24,
   "metadata": {},
   "outputs": [],
   "source": [
    "def train_test_split(df, split):\n",
    "    df = df.sample(frac = 1)\n",
    "    df = df.reset_index(drop = True)\n",
    "    index = round(split* len(df))\n",
    "    train_x, train_y = df.loc[:index, 'message'].values, df.loc[:index, 'label'].values\n",
    "    test_x, test_y = df.loc[index:, 'message'].values, df.loc[index:, 'label'].values\n",
    "    return train_x, train_y, test_x, test_y"
   ]
  },
  {
   "cell_type": "code",
   "execution_count": 25,
   "metadata": {},
   "outputs": [],
   "source": [
    "def confusion_matrix(predictions, actual):\n",
    "    tp, tn, fp, fn = 0, 0, 0, 0\n",
    "    for i in range(len(actual)):\n",
    "        tp += int(actual[i] == 1 and predictions[i] == 1)\n",
    "        tn += int(actual[i] == 0 and predictions[i] == 0)\n",
    "        fp += int(actual[i] == 0 and predictions[i] == 1)\n",
    "        fn += int(actual[i] == 1 and predictions[i] == 0)\n",
    "\n",
    "    print('   Actual Values')\n",
    "    l = [['', 'P', 'N'], ['P', tp, fp], ['N', fn, tn]]\n",
    "    print('\\n'.join(['\\t'.join([str(cell) for cell in row]) for row in l]))\n",
    "\n",
    "    precision = tp / (tp + fp)\n",
    "    recall = tp / (tp + fn)\n",
    "    fScore = 2 * precision * recall / (precision + recall)\n",
    "    accuracy = (tp + tn) / (tp + tn + fp + fn)\n",
    "\n",
    "    print(\"Precision: \", precision)\n",
    "    print(\"Recall: \", recall)\n",
    "    print(\"F-score: \", fScore)\n",
    "    print(\"Accuracy: \", accuracy)\n",
    "\n",
    "    "
   ]
  },
  {
   "cell_type": "code",
   "execution_count": 26,
   "metadata": {},
   "outputs": [],
   "source": [
    "def main():\n",
    "    df = load_data()\n",
    "    # print(df.head())\n",
    "    split = 0.75\n",
    "    train_x, train_y, test_x, test_y = train_test_split(df, split)\n",
    "    print(len(train_y), len(test_y))\n",
    "    model = Naive_Bayes()\n",
    "    model = train(model, train_x, train_y)\n",
    "    yy = test(model, test_x)\n",
    "    count_wrong = lambda test_y,yy: sum([a != b for a,b in zip(test_y, yy)])\n",
    "    num_errs = count_wrong(yy, test_y)\n",
    "    # total = spam_count + ham_count\n",
    "    total = len(test_y)\n",
    "    print('Accuracy {:.4f}, Errors: {} out of {}'.format(1 - num_errs/total, num_errs, total))\n",
    "    confusion_matrix(yy, test_y)\n",
    "    # print(model.test(['Congratulations ur awarded $500 ']))\n",
    "    # print(model.test(['Hello']))"
   ]
  },
  {
   "cell_type": "code",
   "execution_count": 27,
   "metadata": {},
   "outputs": [
    {
     "name": "stdout",
     "output_type": "stream",
     "text": "3878 1292\nAccuracy 0.7577, Errors: 313 out of 1292\n   Actual Values\n\tP\tN\nP\t150\t309\nN\t4\t829\nPrecision:  0.32679738562091504\nRecall:  0.974025974025974\nF-score:  0.4893964110929853\nAccuracy:  0.7577399380804953\n"
    }
   ],
   "source": [
    "if __name__ == '__main__':\n",
    "    main()"
   ]
  },
  {
   "cell_type": "code",
   "execution_count": null,
   "metadata": {},
   "outputs": [],
   "source": []
  }
 ],
 "metadata": {
  "file_extension": ".py",
  "kernelspec": {
   "display_name": "Python 3.7.6 64-bit ('ml': conda)",
   "language": "python",
   "name": "python37664bitmlcondaafaffef78c5c4434834dca70046e1ab9"
  },
  "language_info": {
   "codemirror_mode": {
    "name": "ipython",
    "version": 3
   },
   "file_extension": ".py",
   "mimetype": "text/x-python",
   "name": "python",
   "nbconvert_exporter": "python",
   "pygments_lexer": "ipython3",
   "version": "3.7.6-final"
  },
  "mimetype": "text/x-python",
  "name": "python",
  "npconvert_exporter": "python",
  "pygments_lexer": "ipython3",
  "version": 3
 },
 "nbformat": 4,
 "nbformat_minor": 2
}