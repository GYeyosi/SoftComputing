{
 "nbformat": 4,
 "nbformat_minor": 2,
 "metadata": {
  "language_info": {
   "name": "python",
   "codemirror_mode": {
    "name": "ipython",
    "version": 3
   },
   "version": "3.7.6-final"
  },
  "orig_nbformat": 2,
  "file_extension": ".py",
  "mimetype": "text/x-python",
  "name": "python",
  "npconvert_exporter": "python",
  "pygments_lexer": "ipython3",
  "version": 3,
  "kernelspec": {
   "name": "python37664bitmlcondaafaffef78c5c4434834dca70046e1ab9",
   "display_name": "Python 3.7.6 64-bit ('ml': conda)"
  }
 },
 "cells": [
  {
   "cell_type": "code",
   "execution_count": 13,
   "metadata": {},
   "outputs": [],
   "source": [
    "import numpy as np\n",
    "import pandas as pd\n",
    "import matplotlib.pyplot as plt\n",
    "from sklearn.utils import shuffle"
   ]
  },
  {
   "cell_type": "code",
   "execution_count": 14,
   "metadata": {},
   "outputs": [
    {
     "name": "stdout",
     "output_type": "stream",
     "text": "price  bias   lotsize  bedrooms   bathrms   stories  garagepl\n261 -1.015689   1.0  0.115183  1.403330 -0.568973  0.221501 -0.803788\n105 -0.379048   1.0 -0.072995  0.047192  1.422433  0.221501  1.518266\n217  2.628142   1.0  0.391915  1.403330  3.413838  0.221501  1.518266\n129  2.073890   1.0 -0.272243  0.047192  1.422433  0.221501  0.357239\n402  0.295042   1.0  1.222113  0.047192 -0.568973 -0.930304  1.518266\n        price\n261 -1.015689\n105 -0.379048\n217  2.628142\n129  2.073890\n402  0.295042\n"
    }
   ],
   "source": [
    "def load_data():\n",
    "    data = pd.read_csv(\"housing_price.csv\", index_col=0)\n",
    "    return data\n",
    "\n",
    "data = load_data()\n",
    "# print(data.head())\n",
    "cols = ['driveway', 'recroom', 'fullbase', 'gashw', 'airco', 'prefarea']\n",
    "data = data.drop(cols, axis=1)\n",
    "# print(data.head())\n",
    "price_mean, price_std = data.mean()[0], data.std()[0]\n",
    "data = (data - data.mean())/data.std()\n",
    "# data=data.drop(['Unnamed: 0'],axis=1)\n",
    "# print(data.head())\n",
    "data = shuffle(data) \n",
    "data.insert(loc=1,column='bias',value=np.ones([data.shape[0],1]))\n",
    "print(data.head())\n",
    "inp = data.iloc[:,1:]\n",
    "# print(inp.head())\n",
    "outp = data.iloc[:,:1]\n",
    "print(outp.head())\n",
    "# train_data, train_label = inp.iloc[:(int)(inp.shape[0]*.75),:] , outp.iloc[:(int)(inp.shape[0]*.75),:] \n",
    "# test_data, test_label = inp.iloc[(int)(inp.shape[0]*.75):,:] , outp.iloc[(int)(inp.shape[0]*.75):,:] \n",
    "train_data, train_label = inp, outp\n",
    "test_data, test_label = inp, outp"
   ]
  },
  {
   "cell_type": "code",
   "execution_count": 15,
   "metadata": {},
   "outputs": [
    {
     "name": "stdout",
     "output_type": "stream",
     "text": "tau :  0.2 => Sqerr :  [338133.03780833]\ntau :  0.2 => accuracy :  -3493.9429799752256\ntau :  0.30000000000000004 => Sqerr :  [338133.1195641]\ntau :  0.30000000000000004 => accuracy :  84.80948353731578\ntau :  0.4 => Sqerr :  [338133.14653873]\ntau :  0.4 => accuracy :  85.47255655101536\ntau :  0.5 => Sqerr :  [338133.17035946]\ntau :  0.5 => accuracy :  85.03646830292804\ntau :  0.6000000000000001 => Sqerr :  [338133.19517209]\ntau :  0.6000000000000001 => accuracy :  84.45839075408254\ntau :  0.7000000000000001 => Sqerr :  [338133.22145262]\ntau :  0.7000000000000001 => accuracy :  83.82119518402065\ntau :  0.8 => Sqerr :  [338133.2488688]\ntau :  0.8 => accuracy :  83.32091261759903\ntau :  0.9 => Sqerr :  [338133.27733545]\ntau :  0.9 => accuracy :  82.85602140157688\ntau :  1 => Sqerr :  [0.02952296]\ntau :  1 => accuracy :  82.41544912713954\ntau :  101 => Sqerr :  [0.07017364]\ntau :  101 => accuracy :  79.31472698091287\ntau :  201 => Sqerr :  [0.11082623]\ntau :  201 => accuracy :  79.31428289820539\ntau :  301 => Sqerr :  [0.15147918]\ntau :  301 => accuracy :  79.31419978147088\ntau :  401 => Sqerr :  [0.19213225]\ntau :  401 => accuracy :  79.31417057836236\ntau :  501 => Sqerr :  [0.23278539]\ntau :  501 => accuracy :  79.31415703403286\ntau :  601 => Sqerr :  [0.27343855]\ntau :  601 => accuracy :  79.31414966733115\ntau :  701 => Sqerr :  [0.31409173]\ntau :  701 => accuracy :  79.31414522160927\ntau :  801 => Sqerr :  [0.35474492]\ntau :  801 => accuracy :  79.3141423343525\ntau :  901 => Sqerr :  [0.39539813]\ntau :  901 => accuracy :  79.31414035391266\n"
    },
    {
     "data": {
      "text/plain": "[<matplotlib.lines.Line2D at 0x21b52cb2208>]"
     },
     "execution_count": 15,
     "metadata": {},
     "output_type": "execute_result"
    },
    {
     "data": {
      "image/png": "[encoded data removed]",
      "image/svg+xml": "<?xml version=\"1.0\" encoding=\"utf-8\" standalone=\"no\"?>\r\n<!DOCTYPE svg PUBLIC \"-//W3C//DTD SVG 1.1//EN\"\r\n  \"http://www.w3.org/Graphics/SVG/1.1/DTD/svg11.dtd\">\r\n<!-- Created with matplotlib (https://matplotlib.org/) -->\r\n<svg height=\"248.518125pt\" version=\"1.1\" viewBox=\"0 0 390.029687 248.518125\" width=\"390.029687pt\" xmlns=\"http://www.w3.org/2000/svg\" xmlns:xlink=\"http://www.w3.org/1999/xlink\">\r\n <defs>\r\n  <style type=\"text/css\">\r\n*{stroke-linecap:butt;stroke-linejoin:round;}\r\n  </style>\r\n </defs>\r\n <g id=\"figure_1\">\r\n  <g id=\"patch_1\">\r\n   <path d=\"M 0 248.518125 \r\nL 390.029687 248.518125 \r\nL 390.029687 0 \r\nL 0 0 \r\nz\r\n\" style=\"fill:none;\"/>\r\n  </g>\r\n  <g id=\"axes_1\">\r\n   <g id=\"patch_2\">\r\n    <path d=\"M 48.029688 224.64 \r\nL 382.829688 224.64 \r\nL 382.829688 7.2 \r\nL 48.029688 7.2 \r\nz\r\n\" style=\"fill:#ffffff;\"/>\r\n   </g>\r\n   <g id=\"matplotlib.axis_1\">\r\n    <g id=\"xtick_1\">\r\n     <g id=\"line2d_1\">\r\n      <defs>\r\n       <path d=\"M 0 0 \r\nL 0 3.5 \r\n\" id=\"m6dc9e0061b\" style=\"stroke:#000000;stroke-width:0.8;\"/>\r\n      </defs>\r\n      <g>\r\n       <use style=\"stroke:#000000;stroke-width:0.8;\" x=\"63.180293\" xlink:href=\"#m6dc9e0061b\" y=\"224.64\"/>\r\n      </g>\r\n     </g>\r\n     <g id=\"text_1\">\r\n      <!-- 0 -->\r\n      <defs>\r\n       <path d=\"M 31.78125 66.40625 \r\nQ 24.171875 66.40625 20.328125 58.90625 \r\nQ 16.5 51.421875 16.5 36.375 \r\nQ 16.5 21.390625 20.328125 13.890625 \r\nQ 24.171875 6.390625 31.78125 6.390625 \r\nQ 39.453125 6.390625 43.28125 13.890625 \r\nQ 47.125 21.390625 47.125 36.375 \r\nQ 47.125 51.421875 43.28125 58.90625 \r\nQ 39.453125 66.40625 31.78125 66.40625 \r\nz\r\nM 31.78125 74.21875 \r\nQ 44.046875 74.21875 50.515625 64.515625 \r\nQ 56.984375 54.828125 56.984375 36.375 \r\nQ 56.984375 17.96875 50.515625 8.265625 \r\nQ 44.046875 -1.421875 31.78125 -1.421875 \r\nQ 19.53125 -1.421875 13.0625 8.265625 \r\nQ 6.59375 17.96875 6.59375 36.375 \r\nQ 6.59375 54.828125 13.0625 64.515625 \r\nQ 19.53125 74.21875 31.78125 74.21875 \r\nz\r\n\" id=\"DejaVuSans-48\"/>\r\n      </defs>\r\n      <g transform=\"translate(59.999043 239.238438)scale(0.1 -0.1)\">\r\n       <use xlink:href=\"#DejaVuSans-48\"/>\r\n      </g>\r\n     </g>\r\n    </g>\r\n    <g id=\"xtick_2\">\r\n     <g id=\"line2d_2\">\r\n      <g>\r\n       <use style=\"stroke:#000000;stroke-width:0.8;\" x=\"130.756589\" xlink:href=\"#m6dc9e0061b\" y=\"224.64\"/>\r\n      </g>\r\n     </g>\r\n     <g id=\"text_2\">\r\n      <!-- 200 -->\r\n      <defs>\r\n       <path d=\"M 19.1875 8.296875 \r\nL 53.609375 8.296875 \r\nL 53.609375 0 \r\nL 7.328125 0 \r\nL 7.328125 8.296875 \r\nQ 12.9375 14.109375 22.625 23.890625 \r\nQ 32.328125 33.6875 34.8125 36.53125 \r\nQ 39.546875 41.84375 41.421875 45.53125 \r\nQ 43.3125 49.21875 43.3125 52.78125 \r\nQ 43.3125 58.59375 39.234375 62.25 \r\nQ 35.15625 65.921875 28.609375 65.921875 \r\nQ 23.96875 65.921875 18.8125 64.3125 \r\nQ 13.671875 62.703125 7.8125 59.421875 \r\nL 7.8125 69.390625 \r\nQ 13.765625 71.78125 18.9375 73 \r\nQ 24.125 74.21875 28.421875 74.21875 \r\nQ 39.75 74.21875 46.484375 68.546875 \r\nQ 53.21875 62.890625 53.21875 53.421875 \r\nQ 53.21875 48.921875 51.53125 44.890625 \r\nQ 49.859375 40.875 45.40625 35.40625 \r\nQ 44.1875 33.984375 37.640625 27.21875 \r\nQ 31.109375 20.453125 19.1875 8.296875 \r\nz\r\n\" id=\"DejaVuSans-50\"/>\r\n      </defs>\r\n      <g transform=\"translate(121.212839 239.238438)scale(0.1 -0.1)\">\r\n       <use xlink:href=\"#DejaVuSans-50\"/>\r\n       <use x=\"63.623047\" xlink:href=\"#DejaVuSans-48\"/>\r\n       <use x=\"127.246094\" xlink:href=\"#DejaVuSans-48\"/>\r\n      </g>\r\n     </g>\r\n    </g>\r\n    <g id=\"xtick_3\">\r\n     <g id=\"line2d_3\">\r\n      <g>\r\n       <use style=\"stroke:#000000;stroke-width:0.8;\" x=\"198.332885\" xlink:href=\"#m6dc9e0061b\" y=\"224.64\"/>\r\n      </g>\r\n     </g>\r\n     <g id=\"text_3\">\r\n      <!-- 400 -->\r\n      <defs>\r\n       <path d=\"M 37.796875 64.3125 \r\nL 12.890625 25.390625 \r\nL 37.796875 25.390625 \r\nz\r\nM 35.203125 72.90625 \r\nL 47.609375 72.90625 \r\nL 47.609375 25.390625 \r\nL 58.015625 25.390625 \r\nL 58.015625 17.1875 \r\nL 47.609375 17.1875 \r\nL 47.609375 0 \r\nL 37.796875 0 \r\nL 37.796875 17.1875 \r\nL 4.890625 17.1875 \r\nL 4.890625 26.703125 \r\nz\r\n\" id=\"DejaVuSans-52\"/>\r\n      </defs>\r\n      <g transform=\"translate(188.789135 239.238438)scale(0.1 -0.1)\">\r\n       <use xlink:href=\"#DejaVuSans-52\"/>\r\n       <use x=\"63.623047\" xlink:href=\"#DejaVuSans-48\"/>\r\n       <use x=\"127.246094\" xlink:href=\"#DejaVuSans-48\"/>\r\n      </g>\r\n     </g>\r\n    </g>\r\n    <g id=\"xtick_4\">\r\n     <g id=\"line2d_4\">\r\n      <g>\r\n       <use style=\"stroke:#000000;stroke-width:0.8;\" x=\"265.90918\" xlink:href=\"#m6dc9e0061b\" y=\"224.64\"/>\r\n      </g>\r\n     </g>\r\n     <g id=\"text_4\">\r\n      <!-- 600 -->\r\n      <defs>\r\n       <path d=\"M 33.015625 40.375 \r\nQ 26.375 40.375 22.484375 35.828125 \r\nQ 18.609375 31.296875 18.609375 23.390625 \r\nQ 18.609375 15.53125 22.484375 10.953125 \r\nQ 26.375 6.390625 33.015625 6.390625 \r\nQ 39.65625 6.390625 43.53125 10.953125 \r\nQ 47.40625 15.53125 47.40625 23.390625 \r\nQ 47.40625 31.296875 43.53125 35.828125 \r\nQ 39.65625 40.375 33.015625 40.375 \r\nz\r\nM 52.59375 71.296875 \r\nL 52.59375 62.3125 \r\nQ 48.875 64.0625 45.09375 64.984375 \r\nQ 41.3125 65.921875 37.59375 65.921875 \r\nQ 27.828125 65.921875 22.671875 59.328125 \r\nQ 17.53125 52.734375 16.796875 39.40625 \r\nQ 19.671875 43.65625 24.015625 45.921875 \r\nQ 28.375 48.1875 33.59375 48.1875 \r\nQ 44.578125 48.1875 50.953125 41.515625 \r\nQ 57.328125 34.859375 57.328125 23.390625 \r\nQ 57.328125 12.15625 50.6875 5.359375 \r\nQ 44.046875 -1.421875 33.015625 -1.421875 \r\nQ 20.359375 -1.421875 13.671875 8.265625 \r\nQ 6.984375 17.96875 6.984375 36.375 \r\nQ 6.984375 53.65625 15.1875 63.9375 \r\nQ 23.390625 74.21875 37.203125 74.21875 \r\nQ 40.921875 74.21875 44.703125 73.484375 \r\nQ 48.484375 72.75 52.59375 71.296875 \r\nz\r\n\" id=\"DejaVuSans-54\"/>\r\n      </defs>\r\n      <g transform=\"translate(256.36543 239.238438)scale(0.1 -0.1)\">\r\n       <use xlink:href=\"#DejaVuSans-54\"/>\r\n       <use x=\"63.623047\" xlink:href=\"#DejaVuSans-48\"/>\r\n       <use x=\"127.246094\" xlink:href=\"#DejaVuSans-48\"/>\r\n      </g>\r\n     </g>\r\n    </g>\r\n    <g id=\"xtick_5\">\r\n     <g id=\"line2d_5\">\r\n      <g>\r\n       <use style=\"stroke:#000000;stroke-width:0.8;\" x=\"333.485476\" xlink:href=\"#m6dc9e0061b\" y=\"224.64\"/>\r\n      </g>\r\n     </g>\r\n     <g id=\"text_5\">\r\n      <!-- 800 -->\r\n      <defs>\r\n       <path d=\"M 31.78125 34.625 \r\nQ 24.75 34.625 20.71875 30.859375 \r\nQ 16.703125 27.09375 16.703125 20.515625 \r\nQ 16.703125 13.921875 20.71875 10.15625 \r\nQ 24.75 6.390625 31.78125 6.390625 \r\nQ 38.8125 6.390625 42.859375 10.171875 \r\nQ 46.921875 13.96875 46.921875 20.515625 \r\nQ 46.921875 27.09375 42.890625 30.859375 \r\nQ 38.875 34.625 31.78125 34.625 \r\nz\r\nM 21.921875 38.8125 \r\nQ 15.578125 40.375 12.03125 44.71875 \r\nQ 8.5 49.078125 8.5 55.328125 \r\nQ 8.5 64.0625 14.71875 69.140625 \r\nQ 20.953125 74.21875 31.78125 74.21875 \r\nQ 42.671875 74.21875 48.875 69.140625 \r\nQ 55.078125 64.0625 55.078125 55.328125 \r\nQ 55.078125 49.078125 51.53125 44.71875 \r\nQ 48 40.375 41.703125 38.8125 \r\nQ 48.828125 37.15625 52.796875 32.3125 \r\nQ 56.78125 27.484375 56.78125 20.515625 \r\nQ 56.78125 9.90625 50.3125 4.234375 \r\nQ 43.84375 -1.421875 31.78125 -1.421875 \r\nQ 19.734375 -1.421875 13.25 4.234375 \r\nQ 6.78125 9.90625 6.78125 20.515625 \r\nQ 6.78125 27.484375 10.78125 32.3125 \r\nQ 14.796875 37.15625 21.921875 38.8125 \r\nz\r\nM 18.3125 54.390625 \r\nQ 18.3125 48.734375 21.84375 45.5625 \r\nQ 25.390625 42.390625 31.78125 42.390625 \r\nQ 38.140625 42.390625 41.71875 45.5625 \r\nQ 45.3125 48.734375 45.3125 54.390625 \r\nQ 45.3125 60.0625 41.71875 63.234375 \r\nQ 38.140625 66.40625 31.78125 66.40625 \r\nQ 25.390625 66.40625 21.84375 63.234375 \r\nQ 18.3125 60.0625 18.3125 54.390625 \r\nz\r\n\" id=\"DejaVuSans-56\"/>\r\n      </defs>\r\n      <g transform=\"translate(323.941726 239.238438)scale(0.1 -0.1)\">\r\n       <use xlink:href=\"#DejaVuSans-56\"/>\r\n       <use x=\"63.623047\" xlink:href=\"#DejaVuSans-48\"/>\r\n       <use x=\"127.246094\" xlink:href=\"#DejaVuSans-48\"/>\r\n      </g>\r\n     </g>\r\n    </g>\r\n   </g>\r\n   <g id=\"matplotlib.axis_2\">\r\n    <g id=\"ytick_1\">\r\n     <g id=\"line2d_6\">\r\n      <defs>\r\n       <path d=\"M 0 0 \r\nL -3.5 0 \r\n\" id=\"m46fcad535f\" style=\"stroke:#000000;stroke-width:0.8;\"/>\r\n      </defs>\r\n      <g>\r\n       <use style=\"stroke:#000000;stroke-width:0.8;\" x=\"48.029688\" xlink:href=\"#m46fcad535f\" y=\"215.090862\"/>\r\n      </g>\r\n     </g>\r\n     <g id=\"text_6\">\r\n      <!-- −3500 -->\r\n      <defs>\r\n       <path d=\"M 10.59375 35.5 \r\nL 73.1875 35.5 \r\nL 73.1875 27.203125 \r\nL 10.59375 27.203125 \r\nz\r\n\" id=\"DejaVuSans-8722\"/>\r\n       <path d=\"M 40.578125 39.3125 \r\nQ 47.65625 37.796875 51.625 33 \r\nQ 55.609375 28.21875 55.609375 21.1875 \r\nQ 55.609375 10.40625 48.1875 4.484375 \r\nQ 40.765625 -1.421875 27.09375 -1.421875 \r\nQ 22.515625 -1.421875 17.65625 -0.515625 \r\nQ 12.796875 0.390625 7.625 2.203125 \r\nL 7.625 11.71875 \r\nQ 11.71875 9.328125 16.59375 8.109375 \r\nQ 21.484375 6.890625 26.8125 6.890625 \r\nQ 36.078125 6.890625 40.9375 10.546875 \r\nQ 45.796875 14.203125 45.796875 21.1875 \r\nQ 45.796875 27.640625 41.28125 31.265625 \r\nQ 36.765625 34.90625 28.71875 34.90625 \r\nL 20.21875 34.90625 \r\nL 20.21875 43.015625 \r\nL 29.109375 43.015625 \r\nQ 36.375 43.015625 40.234375 45.921875 \r\nQ 44.09375 48.828125 44.09375 54.296875 \r\nQ 44.09375 59.90625 40.109375 62.90625 \r\nQ 36.140625 65.921875 28.71875 65.921875 \r\nQ 24.65625 65.921875 20.015625 65.03125 \r\nQ 15.375 64.15625 9.8125 62.3125 \r\nL 9.8125 71.09375 \r\nQ 15.4375 72.65625 20.34375 73.4375 \r\nQ 25.25 74.21875 29.59375 74.21875 \r\nQ 40.828125 74.21875 47.359375 69.109375 \r\nQ 53.90625 64.015625 53.90625 55.328125 \r\nQ 53.90625 49.265625 50.4375 45.09375 \r\nQ 46.96875 40.921875 40.578125 39.3125 \r\nz\r\n\" id=\"DejaVuSans-51\"/>\r\n       <path d=\"M 10.796875 72.90625 \r\nL 49.515625 72.90625 \r\nL 49.515625 64.59375 \r\nL 19.828125 64.59375 \r\nL 19.828125 46.734375 \r\nQ 21.96875 47.46875 24.109375 47.828125 \r\nQ 26.265625 48.1875 28.421875 48.1875 \r\nQ 40.625 48.1875 47.75 41.5 \r\nQ 54.890625 34.8125 54.890625 23.390625 \r\nQ 54.890625 11.625 47.5625 5.09375 \r\nQ 40.234375 -1.421875 26.90625 -1.421875 \r\nQ 22.3125 -1.421875 17.546875 -0.640625 \r\nQ 12.796875 0.140625 7.71875 1.703125 \r\nL 7.71875 11.625 \r\nQ 12.109375 9.234375 16.796875 8.0625 \r\nQ 21.484375 6.890625 26.703125 6.890625 \r\nQ 35.15625 6.890625 40.078125 11.328125 \r\nQ 45.015625 15.765625 45.015625 23.390625 \r\nQ 45.015625 31 40.078125 35.4375 \r\nQ 35.15625 39.890625 26.703125 39.890625 \r\nQ 22.75 39.890625 18.8125 39.015625 \r\nQ 14.890625 38.140625 10.796875 36.28125 \r\nz\r\n\" id=\"DejaVuSans-53\"/>\r\n      </defs>\r\n      <g transform=\"translate(7.2 218.89008)scale(0.1 -0.1)\">\r\n       <use xlink:href=\"#DejaVuSans-8722\"/>\r\n       <use x=\"83.789062\" xlink:href=\"#DejaVuSans-51\"/>\r\n       <use x=\"147.412109\" xlink:href=\"#DejaVuSans-53\"/>\r\n       <use x=\"211.035156\" xlink:href=\"#DejaVuSans-48\"/>\r\n       <use x=\"274.658203\" xlink:href=\"#DejaVuSans-48\"/>\r\n      </g>\r\n     </g>\r\n    </g>\r\n    <g id=\"ytick_2\">\r\n     <g id=\"line2d_7\">\r\n      <g>\r\n       <use style=\"stroke:#000000;stroke-width:0.8;\" x=\"48.029688\" xlink:href=\"#m46fcad535f\" y=\"187.478431\"/>\r\n      </g>\r\n     </g>\r\n     <g id=\"text_7\">\r\n      <!-- −3000 -->\r\n      <g transform=\"translate(7.2 191.27765)scale(0.1 -0.1)\">\r\n       <use xlink:href=\"#DejaVuSans-8722\"/>\r\n       <use x=\"83.789062\" xlink:href=\"#DejaVuSans-51\"/>\r\n       <use x=\"147.412109\" xlink:href=\"#DejaVuSans-48\"/>\r\n       <use x=\"211.035156\" xlink:href=\"#DejaVuSans-48\"/>\r\n       <use x=\"274.658203\" xlink:href=\"#DejaVuSans-48\"/>\r\n      </g>\r\n     </g>\r\n    </g>\r\n    <g id=\"ytick_3\">\r\n     <g id=\"line2d_8\">\r\n      <g>\r\n       <use style=\"stroke:#000000;stroke-width:0.8;\" x=\"48.029688\" xlink:href=\"#m46fcad535f\" y=\"159.866\"/>\r\n      </g>\r\n     </g>\r\n     <g id=\"text_8\">\r\n      <!-- −2500 -->\r\n      <g transform=\"translate(7.2 163.665219)scale(0.1 -0.1)\">\r\n       <use xlink:href=\"#DejaVuSans-8722\"/>\r\n       <use x=\"83.789062\" xlink:href=\"#DejaVuSans-50\"/>\r\n       <use x=\"147.412109\" xlink:href=\"#DejaVuSans-53\"/>\r\n       <use x=\"211.035156\" xlink:href=\"#DejaVuSans-48\"/>\r\n       <use x=\"274.658203\" xlink:href=\"#DejaVuSans-48\"/>\r\n      </g>\r\n     </g>\r\n    </g>\r\n    <g id=\"ytick_4\">\r\n     <g id=\"line2d_9\">\r\n      <g>\r\n       <use style=\"stroke:#000000;stroke-width:0.8;\" x=\"48.029688\" xlink:href=\"#m46fcad535f\" y=\"132.253569\"/>\r\n      </g>\r\n     </g>\r\n     <g id=\"text_9\">\r\n      <!-- −2000 -->\r\n      <g transform=\"translate(7.2 136.052788)scale(0.1 -0.1)\">\r\n       <use xlink:href=\"#DejaVuSans-8722\"/>\r\n       <use x=\"83.789062\" xlink:href=\"#DejaVuSans-50\"/>\r\n       <use x=\"147.412109\" xlink:href=\"#DejaVuSans-48\"/>\r\n       <use x=\"211.035156\" xlink:href=\"#DejaVuSans-48\"/>\r\n       <use x=\"274.658203\" xlink:href=\"#DejaVuSans-48\"/>\r\n      </g>\r\n     </g>\r\n    </g>\r\n    <g id=\"ytick_5\">\r\n     <g id=\"line2d_10\">\r\n      <g>\r\n       <use style=\"stroke:#000000;stroke-width:0.8;\" x=\"48.029688\" xlink:href=\"#m46fcad535f\" y=\"104.641139\"/>\r\n      </g>\r\n     </g>\r\n     <g id=\"text_10\">\r\n      <!-- −1500 -->\r\n      <defs>\r\n       <path d=\"M 12.40625 8.296875 \r\nL 28.515625 8.296875 \r\nL 28.515625 63.921875 \r\nL 10.984375 60.40625 \r\nL 10.984375 69.390625 \r\nL 28.421875 72.90625 \r\nL 38.28125 72.90625 \r\nL 38.28125 8.296875 \r\nL 54.390625 8.296875 \r\nL 54.390625 0 \r\nL 12.40625 0 \r\nz\r\n\" id=\"DejaVuSans-49\"/>\r\n      </defs>\r\n      <g transform=\"translate(7.2 108.440357)scale(0.1 -0.1)\">\r\n       <use xlink:href=\"#DejaVuSans-8722\"/>\r\n       <use x=\"83.789062\" xlink:href=\"#DejaVuSans-49\"/>\r\n       <use x=\"147.412109\" xlink:href=\"#DejaVuSans-53\"/>\r\n       <use x=\"211.035156\" xlink:href=\"#DejaVuSans-48\"/>\r\n       <use x=\"274.658203\" xlink:href=\"#DejaVuSans-48\"/>\r\n      </g>\r\n     </g>\r\n    </g>\r\n    <g id=\"ytick_6\">\r\n     <g id=\"line2d_11\">\r\n      <g>\r\n       <use style=\"stroke:#000000;stroke-width:0.8;\" x=\"48.029688\" xlink:href=\"#m46fcad535f\" y=\"77.028708\"/>\r\n      </g>\r\n     </g>\r\n     <g id=\"text_11\">\r\n      <!-- −1000 -->\r\n      <g transform=\"translate(7.2 80.827927)scale(0.1 -0.1)\">\r\n       <use xlink:href=\"#DejaVuSans-8722\"/>\r\n       <use x=\"83.789062\" xlink:href=\"#DejaVuSans-49\"/>\r\n       <use x=\"147.412109\" xlink:href=\"#DejaVuSans-48\"/>\r\n       <use x=\"211.035156\" xlink:href=\"#DejaVuSans-48\"/>\r\n       <use x=\"274.658203\" xlink:href=\"#DejaVuSans-48\"/>\r\n      </g>\r\n     </g>\r\n    </g>\r\n    <g id=\"ytick_7\">\r\n     <g id=\"line2d_12\">\r\n      <g>\r\n       <use style=\"stroke:#000000;stroke-width:0.8;\" x=\"48.029688\" xlink:href=\"#m46fcad535f\" y=\"49.416277\"/>\r\n      </g>\r\n     </g>\r\n     <g id=\"text_12\">\r\n      <!-- −500 -->\r\n      <g transform=\"translate(13.5625 53.215496)scale(0.1 -0.1)\">\r\n       <use xlink:href=\"#DejaVuSans-8722\"/>\r\n       <use x=\"83.789062\" xlink:href=\"#DejaVuSans-53\"/>\r\n       <use x=\"147.412109\" xlink:href=\"#DejaVuSans-48\"/>\r\n       <use x=\"211.035156\" xlink:href=\"#DejaVuSans-48\"/>\r\n      </g>\r\n     </g>\r\n    </g>\r\n    <g id=\"ytick_8\">\r\n     <g id=\"line2d_13\">\r\n      <g>\r\n       <use style=\"stroke:#000000;stroke-width:0.8;\" x=\"48.029688\" xlink:href=\"#m46fcad535f\" y=\"21.803846\"/>\r\n      </g>\r\n     </g>\r\n     <g id=\"text_13\">\r\n      <!-- 0 -->\r\n      <g transform=\"translate(34.667187 25.603065)scale(0.1 -0.1)\">\r\n       <use xlink:href=\"#DejaVuSans-48\"/>\r\n      </g>\r\n     </g>\r\n    </g>\r\n   </g>\r\n   <g id=\"line2d_14\">\r\n    <path clip-path=\"url(#p4d77e8e9b8)\" d=\"M 63.247869 214.756364 \r\nL 63.281657 17.120254 \r\nL 63.315446 17.083636 \r\nL 63.349234 17.107719 \r\nL 63.383022 17.139644 \r\nL 63.41681 17.174833 \r\nL 63.450598 17.202461 \r\nL 63.484386 17.228134 \r\nL 63.518175 17.252465 \r\nL 97.306322 17.423702 \r\nL 131.09447 17.423726 \r\nL 164.882618 17.423731 \r\nL 198.670766 17.423732 \r\nL 232.458914 17.423733 \r\nL 266.247062 17.423734 \r\nL 300.03521 17.423734 \r\nL 333.823358 17.423734 \r\nL 367.611506 17.423734 \r\n\" style=\"fill:none;stroke:#0000ff;stroke-linecap:square;stroke-width:1.5;\"/>\r\n   </g>\r\n   <g id=\"patch_3\">\r\n    <path d=\"M 48.029688 224.64 \r\nL 48.029688 7.2 \r\n\" style=\"fill:none;stroke:#000000;stroke-linecap:square;stroke-linejoin:miter;stroke-width:0.8;\"/>\r\n   </g>\r\n   <g id=\"patch_4\">\r\n    <path d=\"M 382.829688 224.64 \r\nL 382.829688 7.2 \r\n\" style=\"fill:none;stroke:#000000;stroke-linecap:square;stroke-linejoin:miter;stroke-width:0.8;\"/>\r\n   </g>\r\n   <g id=\"patch_5\">\r\n    <path d=\"M 48.029688 224.64 \r\nL 382.829688 224.64 \r\n\" style=\"fill:none;stroke:#000000;stroke-linecap:square;stroke-linejoin:miter;stroke-width:0.8;\"/>\r\n   </g>\r\n   <g id=\"patch_6\">\r\n    <path d=\"M 48.029688 7.2 \r\nL 382.829688 7.2 \r\n\" style=\"fill:none;stroke:#000000;stroke-linecap:square;stroke-linejoin:miter;stroke-width:0.8;\"/>\r\n   </g>\r\n  </g>\r\n </g>\r\n <defs>\r\n  <clipPath id=\"p4d77e8e9b8\">\r\n   <rect height=\"217.44\" width=\"334.8\" x=\"48.029688\" y=\"7.2\"/>\r\n  </clipPath>\r\n </defs>\r\n</svg>\r\n",
      "text/plain": "<Figure size 432x288 with 1 Axes>"
     },
     "metadata": {
      "needs_background": "light"
     },
     "output_type": "display_data"
    }
   ],
   "source": [
    "def tau_norm_weights(x, x0, tau):\n",
    "    weg = np.exp(np.sum((x-x0)*(x-x0), axis=1)/(-2*tau*tau))\n",
    "    weg = np.diag(weg)\n",
    "    return np.array(weg)\n",
    "\n",
    "def error_comp(H,Y):\n",
    "    return abs((Y - H)/ Y)\n",
    "\n",
    "def norm(X, Y, X0,tau):\n",
    "    weg = tau_norm_weights(X, X0, tau)\n",
    "    XWEG = X.T.dot(weg)\n",
    "    XY_Li=np.linalg.inv(np.dot(XWEG,X))\n",
    "    XY=np.dot(XWEG,Y)\n",
    "    W=np.dot(XY_Li,XY)\n",
    "    return W\n",
    "\n",
    "Tau=[]\n",
    "Accuracy=[]\n",
    "\n",
    "# for tau in [i*0.1 for i in range(2,10)]:\n",
    "#     X = np.array(train_data)\n",
    "#     Y = np.array(train_label)\n",
    "#     tot = 0.0\n",
    "#     for x0 in range(len(X)): \n",
    "#         W = norm(X, Y, X[x0],tau)\n",
    "#         prediction = np.array(X[x0].dot(W))\n",
    "#         prediction = prediction * price_std + price_mean\n",
    "#         YY = Y[x0] * price_std + price_mean\n",
    "#         err = error_comp(prediction, YY)\n",
    "#         tot += err\n",
    "#     print(\"tau : \",tau,\"=> accuracy : \",(1-(tot/len(X))[0])*100)\n",
    "#     Tau.append(tau)\n",
    "#     Accuracy.append((1-(tot/len(X))[0])*100)\n",
    "\n",
    "for tau in range(1,1001,100):\n",
    "    X = np.array(train_data)\n",
    "    Y = np.array(train_label)\n",
    "    tot = 0.0\n",
    "    for x0 in range(len(X)): \n",
    "        W = norm(X, Y, X[x0],tau)\n",
    "        prediction = np.array(X[x0].dot(W))\n",
    "        prediction = prediction * price_std + price_mean\n",
    "        YY = Y[x0] * price_std + price_mean\n",
    "        err = error_comp(prediction, YY)\n",
    "        tot += err\n",
    "    print(\"tau : \",tau,\"=> accuracy : \",(1-(tot/len(X))[0])*100)\n",
    "    Tau.append(tau)\n",
    "    Accuracy.append((1-(tot/len(X))[0])*100)\n",
    "plt.plot(Tau,Accuracy,'-b')"
   ]
  },
  {
   "cell_type": "code",
   "execution_count": 16,
   "metadata": {},
   "outputs": [
    {
     "name": "stdout",
     "output_type": "stream",
     "text": "tau :  0.1 => Sqerr :  [0.05970877]\ntau :  0.1 => accuracy :  74.42886926111791\ntau :  0.2 => Sqerr :  [0.11096355]\ntau :  0.2 => accuracy :  76.2518538586431\ntau :  0.30000000000000004 => Sqerr :  [0.15783587]\ntau :  0.30000000000000004 => accuracy :  77.331869447052\ntau :  0.4 => Sqerr :  [0.2017553]\ntau :  0.4 => accuracy :  78.04291626946636\ntau :  0.5 => Sqerr :  [0.24252566]\ntau :  0.5 => accuracy :  78.79579577751717\ntau :  0.6000000000000001 => Sqerr :  [0.28012014]\ntau :  0.6000000000000001 => accuracy :  79.57387344775114\ntau :  0.7000000000000001 => Sqerr :  [0.31542049]\ntau :  0.7000000000000001 => accuracy :  80.15627521372296\ntau :  0.8 => Sqerr :  [0.3495383]\ntau :  0.8 => accuracy :  80.50289048350898\ntau :  0.9 => Sqerr :  [0.38336021]\ntau :  0.9 => accuracy :  80.65578594618006\ntau :  1 => Sqerr :  [0.41750557]\ntau :  1 => accuracy :  80.6839090885675\ntau :  101 => Sqerr :  [0.45816111]\ntau :  101 => accuracy :  79.3139347866378\n"
    }
   ],
   "source": [
    "def gradient_descent(X,Y,W,l,learning_rate,epochs,X0,tau):\n",
    "    weg = tau_norm_weights(X, X0, tau)\n",
    "    act_Y = Y.reshape(len(Y))\n",
    "    for i in range(epochs):\n",
    "        h_x=X.dot(W)\n",
    "        W = W - (1/len(Y))*learning_rate*((X.T.dot(weg)).dot(h_x - Y))\n",
    "    return W\n",
    "Tau=[]\n",
    "Accuracy=[]\n",
    "\n",
    "sqerr = 0\n",
    "for tau in [i*0.1 for i in range(1,10)]:\n",
    "    X = np.array(train_data)\n",
    "    Y = np.array(train_label)\n",
    "    tot = 0.0\n",
    "    learning_rate = 1e-1\n",
    "    epochs = 100\n",
    "    for x0 in range(len(X)): \n",
    "#         W = norm(X, Y, X[x0],tau)\n",
    "        W = np.zeros([X.shape[1],1])\n",
    "        W =gradient_descent(X,Y,W,0,learning_rate,epochs,X[x0],tau)\n",
    "        prediction = np.array(X[x0].dot(W))\n",
    "        prediction = prediction * price_std + price_mean\n",
    "        YY = Y[x0] * price_std + price_mean\n",
    "        err = error_comp(prediction, YY)/ YY\n",
    "        sqerr += err*err\n",
    "        tot += err\n",
    "    print(\"tau : \",tau,\"=> Sqerr : \", sqerr/(2*len(X)))\n",
    "    print(\"tau : \",tau,\"=> accuracy : \",(1-(tot/len(X))[0])*100)\n",
    "    Tau.append(tau)\n",
    "    Accuracy.append((1-(tot/len(X))[0])*100)\n",
    "\n",
    "for tau in range(1,1001,100):\n",
    "    X = np.array(train_data)\n",
    "    Y = np.array(train_label)\n",
    "    tot = 0.0\n",
    "    learning_rate = 1e-1\n",
    "    epochs = 100\n",
    "    for x0 in range(len(X)): \n",
    "#         W = norm(X, Y, X[x0],tau)\n",
    "        W = np.zeros([X.shape[1],1])\n",
    "        W =gradient_descent(X,Y,W,0,learning_rate,epochs,X[x0],tau)\n",
    "        prediction = np.array(X[x0].dot(W))\n",
    "        prediction = prediction * price_std + price_mean\n",
    "        YY = Y[x0] * price_std + price_mean\n",
    "        err = error_comp(prediction, YY)/ YY\n",
    "        sqerr += err*err\n",
    "        tot += err\n",
    "    print(\"tau : \",tau,\"=> Sqerr : \", sqerr/(2*len(X)))\n",
    "    print(\"tau : \",tau,\"=> accuracy : \",(1-(tot/len(X))[0])*100)\n",
    "    Tau.append(tau)\n",
    "    Accuracy.append((1-(tot/len(X))[0])*100)\n",
    "plt.plot(Tau,Accuracy,'-b')"
   ]
  },
  {
   "cell_type": "code",
   "execution_count": null,
   "metadata": {},
   "outputs": [],
   "source": []
  }
 ]
}