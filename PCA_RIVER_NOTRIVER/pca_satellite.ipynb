{
 "cells": [
  {
   "cell_type": "markdown",
   "metadata": {},
   "source": [
    "# River or not river using PCA from satellite images"
   ]
  },
  {
   "cell_type": "code",
   "execution_count": 1,
   "metadata": {},
   "outputs": [],
   "source": [
    "import numpy as np\n",
    "import matplotlib.pyplot as plt\n",
    "import random\n",
    "from PIL import Image\n",
    "import pandas as pd\n",
    "from sklearn.metrics import confusion_matrix\n",
    "import seaborn as sns"
   ]
  },
  {
   "cell_type": "markdown",
   "metadata": {},
   "source": [
    "Below is the code to load the data into the tensors."
   ]
  },
  {
   "cell_type": "code",
   "execution_count": 2,
   "metadata": {},
   "outputs": [
    {
     "name": "stdout",
     "output_type": "stream",
     "text": [
      "[[ 9. 11. 12. 28.]\n",
      " [ 9. 11. 15. 27.]\n",
      " [ 6.  9. 12. 26.]\n",
      " ...\n",
      " [ 6.  6.  6. 11.]\n",
      " [ 6.  7.  5. 17.]\n",
      " [ 5.  6.  6.  8.]]\n",
      "[[ 7.39056118  6.37133815  8.85835449  2.05945495]\n",
      " [ 6.37133815  6.60222402  8.85052835  3.57685562]\n",
      " [ 8.85835449  8.85052835 15.75011491  3.96733057]\n",
      " [ 2.05945495  3.57685562  3.96733057 37.80738645]]\n"
     ]
    }
   ],
   "source": [
    "def get_data(path):\n",
    "    img = Image.open(path, 'r')\n",
    "    p = np.array(list(img.getdata())).flatten()\n",
    "    return p\n",
    "\n",
    "truth = get_data('images/UDCV3.jpeg') \n",
    "\n",
    "img0 = get_data('images/1.gif')\n",
    "\n",
    "img1 = get_data('images/2.gif')\n",
    "\n",
    "img2 = get_data('images/3.gif')\n",
    "\n",
    "img3 = get_data('images/4.gif')\n",
    "\n",
    "# print(img3.shape[0])\n",
    "x = img0.shape[0]\n",
    "\n",
    "imgs = np.zeros((x, 4))\n",
    "y = np.zeros(x)\n",
    "\n",
    "for i in range(x):\n",
    "    imgs[i][0] = img0[i]\n",
    "    imgs[i][1] = img1[i]\n",
    "    imgs[i][2] = img2[i]\n",
    "    imgs[i][3] = img3[i]\n",
    "\n",
    "    y[i] = 0 if truth[i] < 128 else 1\n",
    "\n",
    "print(imgs)\n",
    "# print(covariance(imgs))\n",
    "\n",
    "\n",
    "#Prints the covariance matrix\n",
    "print(np.cov(imgs.T))\n",
    "# print(y)\n"
   ]
  },
  {
   "cell_type": "markdown",
   "metadata": {},
   "source": [
    "The below function is for the dimensionality reduction purpose with k as a parameter which means number of components to be considered"
   ]
  },
  {
   "cell_type": "code",
   "execution_count": 3,
   "metadata": {},
   "outputs": [],
   "source": [
    "def eigenize(X, k=None):\n",
    "    C = np.cov(X.T)\n",
    "    W, V = np.linalg.eig(C)\n",
    "    V = V.T\n",
    "    print(W)\n",
    "    idx = W.argsort()[::-1]\n",
    "\n",
    "    pv = np.array([V[idx[i]] for i in range(k)])\n",
    "    # print(pv)\n",
    "    # print(W[1]*pv[1])\n",
    "    # print(pv[1].dot(C))\n",
    "\n",
    "    U = pv.dot(X.T).T\n",
    "    return pv, U"
   ]
  },
  {
   "cell_type": "markdown",
   "metadata": {},
   "source": [
    "The following code removes the mean image from all the images, finds out the reduced set called eigen_images"
   ]
  },
  {
   "cell_type": "code",
   "execution_count": 4,
   "metadata": {},
   "outputs": [
    {
     "name": "stdout",
     "output_type": "stream",
     "text": [
      "[40.24007103 24.74509738  0.52635551  2.03876264]\n",
      "(262144, 2)\n",
      "[[ 0.17494902  0.20630134  0.28671959  0.91903453]\n",
      " [-0.45452022 -0.41536811 -0.68303992  0.3928577 ]]\n"
     ]
    }
   ],
   "source": [
    "mean = np.average(imgs, axis = 0)\n",
    "# print(mean)\n",
    "imgs = imgs - mean\n",
    "mean = np.average(imgs, axis = 0)\n",
    "# print(mean)\n",
    "\n",
    "# cov_mat = np.cov(imgs.T)\n",
    "# print(cov_mat)\n",
    "k = 2\n",
    "pv, new_imgs = eigenize(imgs, k)\n",
    "print(new_imgs.shape)\n",
    "print(pv)\n"
   ]
  },
  {
   "cell_type": "markdown",
   "metadata": {},
   "source": [
    "Using the euclidean distance the class of the point is identified. "
   ]
  },
  {
   "cell_type": "code",
   "execution_count": 5,
   "metadata": {},
   "outputs": [],
   "source": [
    "def get_dist(p1,p2):\n",
    "    l = p1.shape[0]\n",
    "    d =0\n",
    "    for i in range(0,l):\n",
    "        d = d+ (p1[i]-p2[i])**2\n",
    "        \n",
    "    return np.sqrt(d)\n",
    "\n",
    "def get_class(pt,y,data):\n",
    "    e1,e2=0,0\n",
    "    c1,c2=0,0\n",
    "    \n",
    "    for i in range(0,data.shape[0]):\n",
    "        \n",
    "        if(y[i]==0):\n",
    "            e1 = e1+get_dist(pt,data[i])\n",
    "            c1 = c1+1\n",
    "        else:\n",
    "            e2 = e2+get_dist(pt,data[i])\n",
    "            c2=c2+1\n",
    "    if((e1/c1) < (e2/c2)):\n",
    "        return 0\n",
    "    else:\n",
    "        return 1"
   ]
  },
  {
   "cell_type": "markdown",
   "metadata": {},
   "source": [
    "During testing the pixel values from 4 bands are taken, normalised.\n",
    "\n",
    "Later multiplied with these principal components and are compared with all other pixels and the class with minimum distance is chosen to classify the pixel as river or not river."
   ]
  },
  {
   "cell_type": "code",
   "execution_count": 6,
   "metadata": {},
   "outputs": [
    {
     "name": "stdout",
     "output_type": "stream",
     "text": [
      "Starting Prediction on unseen data\n",
      "Accuracy = 99.42% on 10000 unseen samples \n",
      "Accuracy = 99.12% on 20000 unseen samples \n",
      "Accuracy = 99.08088235294117% on 26112 unseen samples \n"
     ]
    }
   ],
   "source": [
    "h, w = 512, 512\n",
    "\n",
    "correct = 0\n",
    "count =0\n",
    "\n",
    "original = []\n",
    "predicted=[]\n",
    "\n",
    "print(\"Starting Prediction on unseen data\")\n",
    "for i in range(h//10,int(h/5)):\n",
    "    for j in range(0,w):\n",
    "        count+=1\n",
    "        t1 = imgs[i*w+j]\n",
    "        t2 = t1.dot(pv.T)\n",
    "        # print(t2)\n",
    "        e = get_class(t2,y,new_imgs[:600])\n",
    "        original.append(y[i*w+j])\n",
    "        predicted.append(e)\n",
    "        \n",
    "        if(e == y[i*w+j]):\n",
    "            correct+=1\n",
    "            \n",
    "        if(count%10000 == 0):\n",
    "            print(\"Accuracy = {}% on {} unseen samples \".format(correct*100/(count),count)) \n",
    "    #     break\n",
    "    # break\n",
    "            \n",
    "print(\"Accuracy = {}% on {} unseen samples \".format(correct*100/(count),count))\n"
   ]
  },
  {
   "cell_type": "code",
   "execution_count": 7,
   "metadata": {},
   "outputs": [],
   "source": [
    "def plot_confusion_matrix(Y_pred,Y):\n",
    "    cm = confusion_matrix(Y_pred, Y, labels=None, sample_weight=None)\n",
    "    \n",
    "    df_cm = pd.DataFrame(cm, range(2), range(2))\n",
    "    sns.set(font_scale = 1.4) #for label size\n",
    "    ax = sns.heatmap(df_cm, annot = True, annot_kws = {\"size\": 16})\n",
    "    ax.set_title(\"Confusion Matrix\")\n",
    "    ax.set(xlabel = 'Predicted Class', ylabel = 'Actual Class')\n",
    "    plt.show()"
   ]
  },
  {
   "cell_type": "code",
   "execution_count": 8,
   "metadata": {},
   "outputs": [
    {
     "data": {
      "image/png": "[encoded data removed]",
      "text/plain": [
       "<Figure size 432x288 with 2 Axes>"
      ]
     },
     "metadata": {},
     "output_type": "display_data"
    }
   ],
   "source": [
    "plot_confusion_matrix(original,predicted)"
   ]
  },
  {
   "cell_type": "code",
   "execution_count": null,
   "metadata": {},
   "outputs": [],
   "source": []
  }
 ],
 "metadata": {
  "file_extension": ".py",
  "kernelspec": {
   "display_name": "Python 3.7.7 64-bit ('ml': conda)",
   "language": "python",
   "name": "python37764bitmlconda8169c33c53244eb09c9a1477b17728b3"
  },
  "language_info": {
   "codemirror_mode": {
    "name": "ipython",
    "version": 3
   },
   "file_extension": ".py",
   "mimetype": "text/x-python",
   "name": "python",
   "nbconvert_exporter": "python",
   "pygments_lexer": "ipython3",
   "version": "3.7.7"
  },
  "mimetype": "text/x-python",
  "name": "python",
  "npconvert_exporter": "python",
  "pygments_lexer": "ipython3",
  "version": 3
 },
 "nbformat": 4,
 "nbformat_minor": 2
}
