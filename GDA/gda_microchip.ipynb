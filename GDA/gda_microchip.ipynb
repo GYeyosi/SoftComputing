{
 "cells": [
  {
   "cell_type": "markdown",
   "metadata": {},
   "source": [
    "# Gaussian Discriminant Analysis on raw microchip data"
   ]
  },
  {
   "cell_type": "code",
   "execution_count": 1,
   "metadata": {},
   "outputs": [],
   "source": [
    "import numpy as np\n",
    "import pandas as pd\n",
    "from matplotlib import pyplot as plt\n",
    "from math import sqrt"
   ]
  },
  {
   "cell_type": "markdown",
   "metadata": {},
   "source": [
    "Below is the class which has defined training and testing functions as discussed in the attached pdf."
   ]
  },
  {
   "cell_type": "code",
   "execution_count": 2,
   "metadata": {},
   "outputs": [],
   "source": [
    "class GDA():\n",
    "    def __init__(self):\n",
    "        self.u0 = None\n",
    "        self.u1 = None\n",
    "        self.sig = None\n",
    "        self.phi = None\n",
    "\n",
    "    def train(self, x, y):\n",
    "        self.u0 = np.mean(x[y['label'] == 0])\n",
    "        self.u1 = np.mean(x[y['label'] == 1])\n",
    "        self.phi = np.mean(y)\n",
    "\n",
    "        t = x[y['label'] == 1] - self.u1\n",
    "        # print(t.shape)\n",
    "        f = x[y['label'] == 0] - self.u0\n",
    "        tmp = (t.T.dot(t) + f.T.dot(f))\n",
    "        # print(x.shape[0])\n",
    "        self.sig = tmp/x.shape[0]\n",
    "#         print(self.u0)\n",
    "        \n",
    "#         print(self.u1)\n",
    "        \n",
    "#         print(self.phi)\n",
    "        \n",
    "#         print(self.sig)\n",
    "        return\n",
    "\n",
    "    def test(self, x, y):\n",
    "        n = x.shape[1]\n",
    "        pi = 3.14\n",
    "        det_sig = np.linalg.det(self.sig)\n",
    "        inv_sig = np.linalg.inv(self.sig)\n",
    "        # print(x)\n",
    "        preds = []\n",
    "        for _, row in x.iterrows():\n",
    "            # print(row)\n",
    "            tmp0 = row - self.u0\n",
    "            tmp1 = row - self.u1\n",
    "            \n",
    "            # print(tmp0.shape)\n",
    "            # print(inv_sig.shape)\n",
    "\n",
    "            z0 = np.exp(0.5 * (np.dot(np.dot(tmp0.T, inv_sig), tmp0)))\n",
    "            z1 = np.exp(0.5 * (np.dot(np.dot(tmp1, inv_sig), tmp1)))\n",
    "            # print(z0, z1)\n",
    "\n",
    "            px_py_0 = 1.0/((sqrt(pow((2*pi), n))*sqrt(det_sig)) * z0)\n",
    "            px_py_1 = 1.0/((sqrt(pow((2*pi), n))*sqrt(det_sig)) * z1)\n",
    "\n",
    "#             print(px_py_0, px_py_1)\n",
    "            p_t = self.phi['label']\n",
    "            # print(p_t)\n",
    "\n",
    "            py_px_0 = px_py_0 * (1 - p_t)\n",
    "            py_px_1 = px_py_1 * p_t\n",
    "#             print(py_px_0, py_px_1)\n",
    "            \n",
    "            if py_px_0 > py_px_1 :\n",
    "                 preds.append(0)\n",
    "            else:\n",
    "                preds.append(1)\n",
    " \n",
    "        return preds\n"
   ]
  },
  {
   "cell_type": "markdown",
   "metadata": {},
   "source": [
    "### Load Data"
   ]
  },
  {
   "cell_type": "code",
   "execution_count": 3,
   "metadata": {},
   "outputs": [],
   "source": [
    "def load_data():\n",
    "    data = pd.read_csv(\"data.csv\", header = None)\n",
    "    data.columns = ['x1', 'x2', 'label']\n",
    "    data = data.sample(frac = 1)\n",
    "    return data"
   ]
  },
  {
   "cell_type": "markdown",
   "metadata": {},
   "source": [
    "### Split the dataset"
   ]
  },
  {
   "cell_type": "code",
   "execution_count": 4,
   "metadata": {},
   "outputs": [],
   "source": [
    "def train_test_split(data, split = 0.7):\n",
    "    data = data.reset_index(drop = True)\n",
    "    idx = int(split*len(data))\n",
    "    train_data, test_data = data.iloc[:idx], data.iloc[idx:]\n",
    "    train_x, train_y = train_data.iloc[:,:2], train_data.iloc[:,-1:]\n",
    "    test_x, test_y = test_data.iloc[:,:2], test_data.iloc[:,-1:]\n",
    "    return train_x, train_y, test_x, test_y "
   ]
  },
  {
   "cell_type": "markdown",
   "metadata": {},
   "source": [
    "### ScatterPlot of data"
   ]
  },
  {
   "cell_type": "code",
   "execution_count": 5,
   "metadata": {},
   "outputs": [
    {
     "data": {
      "text/plain": [
       "<matplotlib.collections.PathCollection at 0x13c657b1708>"
      ]
     },
     "execution_count": 5,
     "metadata": {},
     "output_type": "execute_result"
    },
    {
     "data": {
      "image/png": "[encoded data removed]",
      "text/plain": [
       "<Figure size 432x288 with 1 Axes>"
      ]
     },
     "metadata": {
      "needs_background": "light"
     },
     "output_type": "display_data"
    }
   ],
   "source": [
    "data = load_data()\n",
    "# print(data.head())\n",
    "pos_data = data[data.iloc[:,-1]==1]\n",
    "neg_data = data[data.iloc[:,-1]==0]\n",
    "plt.scatter(pos_data.iloc[:,0], pos_data.iloc[:,1], color=\"red\")\n",
    "plt.scatter(neg_data.iloc[:,0], neg_data.iloc[:,1], color=\"blue\")\n"
   ]
  },
  {
   "cell_type": "markdown",
   "metadata": {},
   "source": [
    "Train the model over the data and test it on the Testing set"
   ]
  },
  {
   "cell_type": "code",
   "execution_count": 6,
   "metadata": {},
   "outputs": [
    {
     "name": "stdout",
     "output_type": "stream",
     "text": [
      "\n",
      "Number of errors = 0 out of 82\n",
      "Accuracy on Trained data 1.0000, Errors: 0 out of 82\n",
      "\n",
      "Number of errors = 18 out of 36\n",
      "Accuracy on new Test Data 0.5000, Errors: 18 out of 36\n"
     ]
    }
   ],
   "source": [
    "split = 0.7\n",
    "train_x, train_y, test_x, test_y = train_test_split(data, split)\n",
    "\n",
    "model = GDA()\n",
    "model.train(train_x, train_y)\n",
    "\n",
    "\n",
    "\n",
    "preds = model.test(train_x, train_y)\n",
    "preds = np.array(preds)\n",
    "train_y = train_y['label'].to_numpy()\n",
    "\n",
    "# print(preds)\n",
    "# print(test_y)\n",
    "\n",
    "count_wrong = lambda test_y,yy: sum([a != b for a,b in zip(train_y, yy)])\n",
    "num_errs = count_wrong(preds, train_y)\n",
    "total = len(train_y)\n",
    "\n",
    "print(\"\\nNumber of errors = {} out of {}\".format(num_errs, total))\n",
    "print('Accuracy on Trained data {:.4f}, Errors: {} out of {}'.format(1 - num_errs/total, num_errs, total))\n",
    "\n",
    "\n",
    "\n",
    "preds = model.test(test_x, test_y)\n",
    "preds = np.array(preds)\n",
    "test_y = test_y['label'].to_numpy()\n",
    "\n",
    "# print(preds)\n",
    "# print(test_y)\n",
    "\n",
    "count_wrong = lambda test_y,yy: sum([a != b for a,b in zip(test_y, yy)])\n",
    "num_errs = count_wrong(preds, test_y)\n",
    "total = len(test_y)\n",
    "\n",
    "print(\"\\nNumber of errors = {} out of {}\".format(num_errs, total))\n",
    "print('Accuracy on new Test Data {:.4f}, Errors: {} out of {}'.format(1 - num_errs/total, num_errs, total))\n"
   ]
  },
  {
   "cell_type": "code",
   "execution_count": null,
   "metadata": {},
   "outputs": [],
   "source": []
  },
  {
   "cell_type": "code",
   "execution_count": null,
   "metadata": {},
   "outputs": [],
   "source": []
  }
 ],
 "metadata": {
  "file_extension": ".py",
  "kernelspec": {
   "display_name": "Python 3.7.7 64-bit ('ml': conda)",
   "language": "python",
   "name": "python37764bitmlconda8169c33c53244eb09c9a1477b17728b3"
  },
  "language_info": {
   "codemirror_mode": {
    "name": "ipython",
    "version": 3
   },
   "file_extension": ".py",
   "mimetype": "text/x-python",
   "name": "python",
   "nbconvert_exporter": "python",
   "pygments_lexer": "ipython3",
   "version": "3.7.7"
  },
  "mimetype": "text/x-python",
  "name": "python",
  "npconvert_exporter": "python",
  "pygments_lexer": "ipython3",
  "version": 3
 },
 "nbformat": 4,
 "nbformat_minor": 2
}
