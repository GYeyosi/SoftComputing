{
 "cells": [
  {
   "cell_type": "markdown",
   "metadata": {},
   "source": [
    "# Perceptron for Logic Gates"
   ]
  },
  {
   "cell_type": "code",
   "execution_count": 1,
   "metadata": {},
   "outputs": [],
   "source": [
    "import math\n",
    "import csv\n",
    "import random\n",
    "import matplotlib.pyplot as plt"
   ]
  },
  {
   "cell_type": "markdown",
   "metadata": {},
   "source": [
    "Defining some required parameters"
   ]
  },
  {
   "cell_type": "code",
   "execution_count": 2,
   "metadata": {},
   "outputs": [],
   "source": [
    "LEARNING_RATE = 0.001\n",
    "EPOCH = 100000\n",
    "ERROR_TOLERANCE = 0.0001"
   ]
  },
  {
   "cell_type": "code",
   "execution_count": 3,
   "metadata": {},
   "outputs": [],
   "source": [
    "\n",
    "def h_function(w0, w1, w2, i1, i2):\n",
    "    return w0 + (w1 * i1) + (w2 * i2)\n",
    "\n",
    "def g_function(w0, w1, w2, i1, i2):\n",
    "    h = h_function(w0, w1, w2, i1, i2)\n",
    "    return float(1) / (1 + math.exp(-1 * h))\n",
    "\n",
    "def calculate_error(target_output, actual_output):\n",
    "    return math.pow((target_output - actual_output), 2)\n",
    "\n",
    "def delta_w(g_result, input_value, target_output, learning_rate=0.001):\n",
    "    return -1 * learning_rate * (g_result - target_output) * input_value\n"
   ]
  },
  {
   "cell_type": "markdown",
   "metadata": {},
   "source": [
    "### Train"
   ]
  },
  {
   "cell_type": "code",
   "execution_count": 4,
   "metadata": {},
   "outputs": [],
   "source": [
    "def train(data):\n",
    "    #generate random weights \n",
    "    w0 = random.uniform(-0.2, 0.2)\n",
    "    w1 = random.uniform(-0.2, 0.2)\n",
    "    w2 = random.uniform(-0.2, 0.2)\n",
    "\n",
    "    average_error = 100\n",
    "    iteration = 0\n",
    "    while iteration < EPOCH and average_error > ERROR_TOLERANCE:\n",
    "        total_error = 0\n",
    "\n",
    "        for row in data:\n",
    "            x1 = float(row[0])\n",
    "            x2 = float(row[1])\n",
    "            target_output = float(row[2])\n",
    "\n",
    "            g_result = g_function(w0, w1, w2, x1, x2)\n",
    "            \n",
    "            # calculate error\n",
    "            error = calculate_error(target_output, g_result)\n",
    "            total_error += error\n",
    "            \n",
    "            # update weights \n",
    "            w0 += delta_w(g_result, 1, target_output, LEARNING_RATE)\n",
    "            w1 += delta_w(g_result, x1, target_output, LEARNING_RATE)\n",
    "            w2 += delta_w(g_result, x2, target_output, LEARNING_RATE)\n",
    "        \n",
    "        # update epoch number\n",
    "        iteration += 1\n",
    "        average_error = float(total_error) / len(data)\n",
    "        avg_error_plot.append(average_error)\n",
    "\n",
    "    print(\"w0 is: \" + str(w0) + \"  w1 is: \" + str(w1) + \"    w2 is: \" + str(w2))\n",
    "    return {'w0': w0, 'w1': w1, 'w2': w2}"
   ]
  },
  {
   "cell_type": "markdown",
   "metadata": {},
   "source": [
    "### Test"
   ]
  },
  {
   "cell_type": "code",
   "execution_count": 5,
   "metadata": {},
   "outputs": [],
   "source": [
    "def test(test_data, weights):\n",
    "    match = 0\n",
    "    for test_case in test_data:\n",
    "        test_input1 = float(test_case[0])\n",
    "        test_input2 = float(test_case[1])\n",
    "        expected_output = float(test_case[2])\n",
    "\n",
    "        g_of_h = g_function(weights['w0'], weights['w1'], weights['w2'], test_input1, test_input2)\n",
    "        \n",
    "        if g_of_h <= 0.5:\n",
    "            predicted_output = 0\n",
    "        else:\n",
    "            predicted_output = 1\n",
    "\n",
    "        if expected_output == predicted_output:\n",
    "            match += 1\n",
    "            \n",
    "        print(test_input1, test_input2, predicted_output)\n",
    "    return float(match) / len(test_data) * 100"
   ]
  },
  {
   "cell_type": "markdown",
   "metadata": {},
   "source": [
    "# AND Gate"
   ]
  },
  {
   "cell_type": "code",
   "execution_count": 6,
   "metadata": {},
   "outputs": [
    {
     "name": "stdout",
     "output_type": "stream",
     "text": [
      " -------------------- AND GATE -------------------- \n",
      "[['0', '0', '0'], ['0', '1', '0'], ['1', '0', '0'], ['1', '1', '1']]\n",
      "w0 is: -8.530394723360185  w1 is: 5.567258894341008    w2 is: 5.567197152484044\n"
     ]
    },
    {
     "data": {
      "image/png": "[encoded data removed]",
      "text/plain": [
       "<Figure size 432x288 with 1 Axes>"
      ]
     },
     "metadata": {
      "needs_background": "light"
     },
     "output_type": "display_data"
    },
    {
     "name": "stdout",
     "output_type": "stream",
     "text": [
      "0.0 0.0 0\n",
      "0.0 1.0 0\n",
      "1.0 0.0 0\n",
      "1.0 1.0 1\n",
      "\n",
      "Accuracy % -  100.0\n"
     ]
    }
   ],
   "source": [
    "# AND gate validation:\n",
    "\n",
    "print(\" -------------------- AND GATE -------------------- \")\n",
    "with open('./and.csv') as f:\n",
    "    reader = csv.reader(f)\n",
    "    and_data = list(reader)\n",
    "#     for row in reader:\n",
    "#         print(row)\n",
    "    print(and_data)\n",
    "\n",
    "\n",
    "avg_error_plot = []\n",
    "\n",
    "and_weights = train(and_data)\n",
    "plt.plot(avg_error_plot, marker='s', linestyle='-', color='b', label='Error')\n",
    "plt.xlabel('Epoch')\n",
    "plt.ylabel('Average Error')\n",
    "plt.title('Epoch Vs. Average Error for AND gate')\n",
    "plt.legend()\n",
    "plt.show()\n",
    "\n",
    "\n",
    "print(\"\\nAccuracy % - \", test(and_data, and_weights))\n",
    "\n"
   ]
  },
  {
   "cell_type": "markdown",
   "metadata": {},
   "source": [
    "# OR Gate"
   ]
  },
  {
   "cell_type": "code",
   "execution_count": 7,
   "metadata": {},
   "outputs": [
    {
     "name": "stdout",
     "output_type": "stream",
     "text": [
      " -------------------- OR GATE -------------------- \n",
      "w0 is: -2.912229425680418  w1 is: 6.777669446608285    w2 is: 6.777240092083112\n"
     ]
    },
    {
     "data": {
      "image/png": "[encoded data removed]",
      "text/plain": [
       "<Figure size 432x288 with 1 Axes>"
      ]
     },
     "metadata": {
      "needs_background": "light"
     },
     "output_type": "display_data"
    },
    {
     "name": "stdout",
     "output_type": "stream",
     "text": [
      "0.0 0.0 0\n",
      "0.0 1.0 1\n",
      "1.0 0.0 1\n",
      "1.0 1.0 1\n",
      "\n",
      "Accuracy % -  100.0\n"
     ]
    }
   ],
   "source": [
    "# OR gate validation:\n",
    "print(\" -------------------- OR GATE -------------------- \")\n",
    "\n",
    "with open('./or.csv') as f:\n",
    "    reader = csv.reader(f)\n",
    "    or_data = list(reader)\n",
    "\n",
    "avg_error_plot = []\n",
    "\n",
    "or_weights = train(or_data)\n",
    "plt.plot(avg_error_plot, marker='D', linestyle='-', color='g', label='Error')\n",
    "plt.xlabel('Epoch')\n",
    "plt.ylabel('Average Error')\n",
    "plt.title('Epoch Vs. Average Error for OR gate')\n",
    "plt.legend()\n",
    "plt.show()\n",
    "\n",
    "print(\"\\nAccuracy % - \", test(or_data, or_weights))"
   ]
  },
  {
   "cell_type": "markdown",
   "metadata": {},
   "source": [
    "# NAND Gate"
   ]
  },
  {
   "cell_type": "code",
   "execution_count": 8,
   "metadata": {},
   "outputs": [
    {
     "name": "stdout",
     "output_type": "stream",
     "text": [
      " -------------------- NAND GATE -------------------- \n",
      "w0 is: 8.529341573453687  w1 is: -5.566554262856477    w2 is: -5.566491909144098\n"
     ]
    },
    {
     "data": {
      "image/png": "[encoded data removed]",
      "text/plain": [
       "<Figure size 432x288 with 1 Axes>"
      ]
     },
     "metadata": {
      "needs_background": "light"
     },
     "output_type": "display_data"
    },
    {
     "name": "stdout",
     "output_type": "stream",
     "text": [
      "0.0 0.0 1\n",
      "0.0 1.0 1\n",
      "1.0 0.0 1\n",
      "1.0 1.0 0\n",
      "\n",
      "Accuracy % -  100.0\n"
     ]
    }
   ],
   "source": [
    "# NAND gate validation:\n",
    "print(\" -------------------- NAND GATE -------------------- \")\n",
    "\n",
    "with open('./nand.csv') as f:\n",
    "    reader = csv.reader(f)\n",
    "    nand_data = list(reader)\n",
    "\n",
    "avg_error_plot = []\n",
    "\n",
    "nand_weights = train(nand_data)\n",
    "plt.plot(avg_error_plot, marker='x', linestyle='-', color='m', label='Error')\n",
    "plt.xlabel('Epoch')\n",
    "plt.ylabel('Average Error')\n",
    "plt.title('Epoch Vs. Average Error for NAND gate')\n",
    "plt.legend()\n",
    "plt.show()\n",
    "\n",
    "print(\"\\nAccuracy % - \", test(nand_data, nand_weights))"
   ]
  },
  {
   "cell_type": "markdown",
   "metadata": {},
   "source": [
    "# NOR Gate"
   ]
  },
  {
   "cell_type": "code",
   "execution_count": 9,
   "metadata": {},
   "outputs": [
    {
     "name": "stdout",
     "output_type": "stream",
     "text": [
      " -------------------- NOR GATE -------------------- \n",
      "w0 is: 2.9122246761629507  w1 is: -6.776900284656093    w2 is: -6.777991003926087\n"
     ]
    },
    {
     "data": {
      "image/png": "[encoded data removed]",
      "text/plain": [
       "<Figure size 432x288 with 1 Axes>"
      ]
     },
     "metadata": {
      "needs_background": "light"
     },
     "output_type": "display_data"
    },
    {
     "name": "stdout",
     "output_type": "stream",
     "text": [
      "0.0 0.0 1\n",
      "0.0 1.0 0\n",
      "1.0 0.0 0\n",
      "1.0 1.0 0\n",
      "\n",
      "Accuracy % -  100.0\n"
     ]
    }
   ],
   "source": [
    "\n",
    "# NOR gate validation:\n",
    "print(\" -------------------- NOR GATE -------------------- \")\n",
    "\n",
    "with open('./nor.csv') as f:\n",
    "    reader = csv.reader(f)\n",
    "    nor_data = list(reader)\n",
    "\n",
    "avg_error_plot = []\n",
    "\n",
    "nor_weights = train(nor_data)\n",
    "plt.plot(avg_error_plot, marker='h', linestyle='-', color='c', label='Error')\n",
    "plt.xlabel('Epoch')\n",
    "plt.ylabel('Average Error')\n",
    "plt.title('Epoch Vs. Average Error for NOR gate')\n",
    "plt.legend()\n",
    "plt.show()\n",
    "\n",
    "print(\"\\nAccuracy % - \", test(nor_data, nor_weights))\n"
   ]
  },
  {
   "cell_type": "markdown",
   "metadata": {},
   "source": [
    "# XOR Gate\n",
    "Here is to show that this perceptron **doesnt work** for XOR gate. If u see the accuracy it is only 25%. only one out of the four possible inputs is correct."
   ]
  },
  {
   "cell_type": "code",
   "execution_count": 10,
   "metadata": {},
   "outputs": [
    {
     "name": "stdout",
     "output_type": "stream",
     "text": [
      " -------------------- XOR GATE -------------------- \n",
      "w0 is: 2.9105886314187486  w1 is: -6.774515540713188    w2 is: -6.7739528955491854\n"
     ]
    },
    {
     "data": {
      "image/png": "[encoded data removed]",
      "text/plain": [
       "<Figure size 432x288 with 1 Axes>"
      ]
     },
     "metadata": {
      "needs_background": "light"
     },
     "output_type": "display_data"
    },
    {
     "name": "stdout",
     "output_type": "stream",
     "text": [
      "1.0 0.0 0\n",
      "0.0 0.0 1\n",
      "0.0 1.0 0\n",
      "1.0 1.0 0\n",
      "\n",
      "Accuracy % -  25.0\n"
     ]
    }
   ],
   "source": [
    "# XOR gate validation:\n",
    "print(\" -------------------- XOR GATE -------------------- \")\n",
    "\n",
    "with open('./xor.csv') as f:\n",
    "    reader = csv.reader(f)\n",
    "    xor_data = list(reader)\n",
    "\n",
    "avg_error_plot = []\n",
    "\n",
    "xor_weights = train(nor_data)\n",
    "plt.plot(avg_error_plot, marker='h', linestyle='-', color='c', label='Error')\n",
    "plt.xlabel('Epoch')\n",
    "plt.ylabel('Average Error')\n",
    "plt.title('Epoch Vs. Average Error for XOR gate')\n",
    "plt.legend()\n",
    "plt.show()\n",
    "\n",
    "print(\"\\nAccuracy % - \", test(xor_data, xor_weights))\n"
   ]
  },
  {
   "cell_type": "code",
   "execution_count": null,
   "metadata": {},
   "outputs": [],
   "source": []
  }
 ],
 "metadata": {
  "file_extension": ".py",
  "kernelspec": {
   "display_name": "Python 3.7.7 64-bit ('ml': conda)",
   "language": "python",
   "name": "python37764bitmlconda8169c33c53244eb09c9a1477b17728b3"
  },
  "language_info": {
   "codemirror_mode": {
    "name": "ipython",
    "version": 3
   },
   "file_extension": ".py",
   "mimetype": "text/x-python",
   "name": "python",
   "nbconvert_exporter": "python",
   "pygments_lexer": "ipython3",
   "version": "3.7.7"
  },
  "mimetype": "text/x-python",
  "name": "python",
  "npconvert_exporter": "python",
  "pygments_lexer": "ipython3",
  "version": 3
 },
 "nbformat": 4,
 "nbformat_minor": 2
}
